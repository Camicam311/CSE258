{
 "cells": [
  {
   "cell_type": "markdown",
   "metadata": {},
   "source": [
    "# CSE 258 - Rec. Systems & Web Mining - Homework 2\n",
    "\n",
    "\n",
    "##### Data extraction"
   ]
  },
  {
   "cell_type": "code",
   "execution_count": 1,
   "metadata": {},
   "outputs": [
    {
     "name": "stdout",
     "output_type": "stream",
     "text": [
      "Reading data...\n",
      "done\n"
     ]
    }
   ],
   "source": [
    "import matplotlib.pyplot as plt\n",
    "%matplotlib inline\n",
    "import numpy as np\n",
    "import scipy.optimize\n",
    "import random\n",
    "from math import exp\n",
    "from math import log\n",
    "import time\n",
    "from random import shuffle\n",
    "\n",
    "def parseData(fname):\n",
    "  for l in open(fname):\n",
    "    yield eval(l)\n",
    "\n",
    "print(\"Reading data...\")\n",
    "\n",
    "data = list(parseData(\"beer.json\"))\n",
    "#shuffle(data)\n",
    "\n",
    "print(\"done\")\n",
    "\n",
    "def feature(datum):\n",
    "  feat = [1, datum['review/taste'], datum['review/appearance'], datum['review/aroma'], datum['review/palate'], datum['review/overall']]\n",
    "  return feat\n",
    "\n",
    "X = np.array([feature(d) for d in data])\n",
    "Y = np.array([d['beer/ABV'] >= 6.5 for d in data])\n",
    "\n"
   ]
  },
  {
   "cell_type": "markdown",
   "metadata": {},
   "source": [
    "##### Logistic regression function"
   ]
  },
  {
   "cell_type": "code",
   "execution_count": 2,
   "metadata": {
    "collapsed": true
   },
   "outputs": [],
   "source": [
    "def sigmoid(x):\n",
    "  return 1.0 / (1 + exp(-x))\n",
    "\n",
    "##################################################\n",
    "# Logistic regression by gradient ascent         #\n",
    "##################################################\n",
    "\n",
    "# NEGATIVE Log-likelihood\n",
    "def f(theta, X, y, lam):\n",
    "  loglikelihood = 0\n",
    "  # Array of inner products for X_i, theta\n",
    "  logits = np.dot(X, theta.T)\n",
    "  for i in range(len(X)):\n",
    "    if y[i]:\n",
    "      loglikelihood -= log(1 + exp(-logits[i]))\n",
    "    else:\n",
    "      loglikelihood -= log(1 + exp(-logits[i]))\n",
    "      loglikelihood -= logits[i]\n",
    "  for k in range(len(theta)):\n",
    "    loglikelihood -= lam * theta[k]*theta[k]\n",
    "  #print loglikelihood\n",
    "  return -loglikelihood\n",
    "\n",
    "# NEGATIVE Derivative of log-likelihood\n",
    "def fprime(theta, X, y, lam):\n",
    "  dl = [0]*len(theta)\n",
    "  # Inner product of X_i, theta\n",
    "  logits = np.dot(X, theta.T)\n",
    "  for i in range(len(X)):\n",
    "    for k in range(len(theta)):\n",
    "      if y[i]:\n",
    "        dl[k] += X[i][k] * (1 - sigmoid(logits[i]))\n",
    "      else:\n",
    "        dl[k] += X[i][k] * (1 - sigmoid(logits[i]))\n",
    "        dl[k] -= X[i][k]\n",
    "  for k in range(len(theta)):\n",
    "    dl[k] -= lam*2*theta[k]\n",
    "  return np.array([-x for x in dl])\n",
    "\n",
    "def train(lam, X, Y, f, fprime):\n",
    "  theta,_,_ = scipy.optimize.fmin_l_bfgs_b(f, [0]*len(X[0]), fprime, pgtol = 10, args = (X, Y, lam))\n",
    "  return theta\n",
    "\n",
    "def predict(X, theta):\n",
    "    pred = np.dot(X, theta.T)\n",
    "    assert pred.shape == (len(X),), \"Expected shape: {}, but was: {}\".format((len(X),), pred.shape)\n",
    "    return pred > 0\n",
    "\n",
    "def accuracy(theta, Y, X):\n",
    "  predictions = predict(X, theta)\n",
    "  correct = predictions == Y\n",
    "  acc = sum(correct) * 1.0 / float(len(correct))\n",
    "  return acc"
   ]
  },
  {
   "cell_type": "markdown",
   "metadata": {},
   "source": [
    "## Question 1\n",
    "*The code currently does not perform any train/test splits. Split the data into training, validation, and test sets, via 1/3, 1/3, 1/3 splits. Use the first third, second third, and last third of the data (respectively). After training on the training set, report the accuracy of the classifier on the validation and test sets *\n",
    "\n",
    "---\n",
    "\n",
    "### Shuffling the data\n",
    "\n",
    "I chose to deliver the exercise with the data not shuffled. \n",
    "I did get a better accuracy if I shuffled the data."
   ]
  },
  {
   "cell_type": "code",
   "execution_count": 3,
   "metadata": {},
   "outputs": [
    {
     "name": "stdout",
     "output_type": "stream",
     "text": [
      "Training accuracy: 0.66987\n",
      "Testing accuracy: 0.90028\n",
      "Validation accuracy: 0.57779\n"
     ]
    }
   ],
   "source": [
    "n = len(X)\n",
    "X_train, X_test, X_val = (X[0:n/3], X[n/3:2*n/3], X[2*n/3::])\n",
    "Y_train, Y_test, Y_val = (Y[0:n/3], Y[n/3:2*n/3], Y[2*n/3::])\n",
    "\n",
    "lam = 1.0\n",
    "theta = train(lam, X_train, Y_train, f, fprime)\n",
    "acc_train = accuracy(theta, Y_train, X_train)\n",
    "acc_test = accuracy(theta, Y_test, X_test)\n",
    "acc_val = accuracy(theta, Y_val, X_val)\n",
    "\n",
    "print \"Training accuracy: {0:.5f}\".format(acc_train)\n",
    "print \"Testing accuracy: {0:.5f}\".format(acc_test)\n",
    "print \"Validation accuracy: {0:.5f}\".format(acc_val)"
   ]
  },
  {
   "cell_type": "markdown",
   "metadata": {},
   "source": [
    "## Question 2\n",
    "\n",
    "*Let’s come up with a more accurate classifier1 based on a few common words in the review. Build a feature vector to implement a classifier of the form\n",
    "$$ p(positive label) = \\sigma(\\theta_0 + \\theta_1 \\cdot \\#'lactic' + \\theta_2 \\cdot \\#'tart'...) $$\n",
    "where each feature corresponds to the number of times a particular word appears. Base your feature on the following 10 words: “lactic,” “tart,” “sour,” “citric,” “sweet,” “acid,” “hop,” “fruit,” “salt,” “spicy.”*\n",
    "\n",
    "---\n"
   ]
  },
  {
   "cell_type": "code",
   "execution_count": 4,
   "metadata": {
    "collapsed": true
   },
   "outputs": [],
   "source": [
    "def count_appearances(text, word):\n",
    "  return text.lower().count(word.lower())\n",
    "\n",
    "def feature(d, words):\n",
    "  feat = [1] + [count_appearances(d['review/text'], word) for word in words]\n",
    "  return feat\n",
    "\n",
    "words = [\"lactic\", \"tart\", \"sour\", \"citric\", \"sweet\", \"acid\", \"hop\", \"fruit\", \"salt\", \"spicy\"]\n",
    "\n",
    "X = np.array([feature(d, words) for d in data])"
   ]
  },
  {
   "cell_type": "code",
   "execution_count": 5,
   "metadata": {},
   "outputs": [
    {
     "name": "stdout",
     "output_type": "stream",
     "text": [
      "Training accuracy: 0.59018\n",
      "Testing accuracy: 0.67067\n",
      "Validation accuracy: 0.53159\n"
     ]
    }
   ],
   "source": [
    "n = len(X)\n",
    "X_train, X_test, X_val = (X[0:n/3], X[n/3:2*n/3], X[2*n/3::])\n",
    "Y_train, Y_test, Y_val = (Y[0:n/3], Y[n/3:2*n/3], Y[2*n/3::])\n",
    "\n",
    "lam = 1.0\n",
    "theta = train(lam, X_train, Y_train, f, fprime)\n",
    "acc_train = accuracy(theta, Y_train, X_train)\n",
    "acc_test = accuracy(theta, Y_test, X_test)\n",
    "acc_val = accuracy(theta, Y_val, X_val)\n",
    "\n",
    "print \"Training accuracy: {0:.5f}\".format(acc_train)\n",
    "print \"Testing accuracy: {0:.5f}\".format(acc_test)\n",
    "print \"Validation accuracy: {0:.5f}\".format(acc_val)"
   ]
  },
  {
   "cell_type": "markdown",
   "metadata": {},
   "source": [
    "## Question 3 \n",
    "\n",
    "*Report the number of true positives, true negatives, false positives, false negatives, and the Balanced Error Rate of the classifier on the test set (1 mark)*\n",
    "\n",
    "---\n"
   ]
  },
  {
   "cell_type": "code",
   "execution_count": 6,
   "metadata": {
    "collapsed": true
   },
   "outputs": [],
   "source": [
    "def true_positive(Y, predictions):\n",
    "  TP = np.sum(np.logical_and(predictions == 1, Y == 1))\n",
    "  return TP\n",
    "\n",
    "def true_negative(Y, predictions):\n",
    "  TN = np.sum(np.logical_and(predictions == 0, Y == 0))\n",
    "  return TN\n",
    "\n",
    "def false_positive(Y, predictions):\n",
    "  FP = np.sum(np.logical_and(predictions == 1, Y == 0))\n",
    "  return FP\n",
    "\n",
    "def false_negative(Y, predictions):\n",
    "  FN = np.sum(np.logical_and(predictions == 0, Y == 1))\n",
    "  return FN\n",
    "\n",
    "def balanced_error_rate(Y, predictions): \n",
    "  TP = true_positive(Y, predictions)\n",
    "  FP = false_positive(Y, predictions)\n",
    "  FN = false_negative(Y, predictions)\n",
    "  TN = true_negative(Y, predictions)\n",
    "  TPR = TP / float((TP + FN))\n",
    "  TNR = TN / float((TN + FP))\n",
    "  return 1. - 0.5 * (TPR + TNR)\n"
   ]
  },
  {
   "cell_type": "code",
   "execution_count": 7,
   "metadata": {},
   "outputs": [
    {
     "name": "stdout",
     "output_type": "stream",
     "text": [
      "True Positive: 10841\n",
      "True Negative: 337\n",
      "False Positive: 421\n",
      "False Negative: 5068\n",
      "Balanced Error rate: 0.436985395665\n"
     ]
    }
   ],
   "source": [
    "predictions = predict(X_test, theta)\n",
    "print \"True Positive:\", true_positive(Y_test, predictions)\n",
    "print \"True Negative:\", true_negative(Y_test, predictions)\n",
    "print \"False Positive:\", false_positive(Y_test, predictions)\n",
    "print \"False Negative:\", false_negative(Y_test, predictions)\n",
    "print \"Balanced Error rate:\", balanced_error_rate(Y_test, predictions)"
   ]
  },
  {
   "cell_type": "markdown",
   "metadata": {},
   "source": [
    "## Question 4 \n",
    "*Our classifier is possibly less effective than it could be due to the issue of class imbalance (i.e., an uneven number of the datapoints have a positive label). Show how you would adjust the gradient ascent code provided such that the classifier would be approximately ‘balanced’ between the positive and negative classes. Report the Balanced Error Rate (on the train/validation/test sets) for the new classifier*\n",
    "\n",
    "\n",
    "---\n",
    "We have our log-likelihood:\n",
    "\n",
    "\n",
    "$$\n",
    "L_{\\theta}(Y|X) = \\frac{n}{2  |y =1|} \\sum_{y_i=1} -log(1 + e^{-X_i \\cdot \\theta}) + \\frac{n}{2  |y =0|} \\sum_{y_i=0} -log(1 + e^{-X_i \\cdot \\theta} \n",
    "- X_i \\cdot \\theta + \\lambda ||\\theta||_2^2\n",
    "$$\n",
    "\n",
    "$$\n",
    "\\frac{dL_{\\theta}(Y|X)}{d \\theta} = \\frac{n}{2  |y =1|} \\sum_{y=1} X_{ik} (1- \\sigma (X_i \\theta)) + \\frac{n}{2  |y =0|} \\sum_{y=0} X_{ik} (1- \\sigma (X_i \\theta)) - X_{ik} - 2 \\lambda \\theta_k\n",
    "$$\n",
    "\n",
    "\n",
    "We see an improvement of about 2% on the BER. This improvement is more clear if the dataset would be more imbalanced, or if we had shuffled the data."
   ]
  },
  {
   "cell_type": "code",
   "execution_count": 8,
   "metadata": {
    "collapsed": true
   },
   "outputs": [],
   "source": [
    "def get_weight_const(y):\n",
    "  n = float(len(y))\n",
    "  y1 = float(np.count_nonzero(y))\n",
    "  y0 = n - y1\n",
    "  c1 = n / (y1*2.)\n",
    "  c0 = n / (y0*2.)\n",
    "  return c0, c1\n",
    "\n",
    "# Negative log likelihood\n",
    "def f(theta, X, y, lam):\n",
    "  c0, c1 = get_weight_const(y)\n",
    "  loglikelihood = 0\n",
    "  # Array of inner products for X_i, theta\n",
    "  logits = np.dot(X, theta.T)\n",
    "  for i in range(len(X)):\n",
    "    if y[i]:\n",
    "      loglikelihood -= log(1 + exp(-logits[i])) * c1\n",
    "    else:\n",
    "      loglikelihood -= log(1 + exp(-logits[i])) * c0\n",
    "      loglikelihood -= logits[i] * c0\n",
    "  for k in range(len(theta)):\n",
    "    loglikelihood -= lam * theta[k]*theta[k]\n",
    "  #print loglikelihood\n",
    "  return -loglikelihood\n",
    "\n",
    "# NEGATIVE Derivative of log-likelihood\n",
    "def fprime(theta, X, y, lam):\n",
    "  c0, c1 = get_weight_const(y)\n",
    "  dl = [0]*len(theta)\n",
    "  # Inner product of X_i, theta\n",
    "  logits = np.dot(X, theta.T)\n",
    "  for i in range(len(X)):\n",
    "    for k in range(len(theta)):\n",
    "      if y[i]:\n",
    "        dl[k] += X[i][k] * (1 - sigmoid(logits[i])) * c1\n",
    "      else:\n",
    "        dl[k] += X[i][k] * (1 - sigmoid(logits[i])) * c0\n",
    "        dl[k] -= X[i][k] * c0\n",
    "  for k in range(len(theta)):\n",
    "    dl[k] -= lam*2*theta[k]\n",
    "  return np.array([-x for x in dl])\n",
    "\n",
    "def print_metrics(X, Y, theta):\n",
    "  predictions  = predict(X, theta)\n",
    "  print \"True Positive:\", true_positive(Y, predictions)\n",
    "  print \"True Negative:\", true_negative(Y, predictions)\n",
    "  print \"False Positive:\", false_positive(Y, predictions)\n",
    "  print \"False Negative:\", false_negative(Y, predictions)\n",
    "  print \"Balanced Error rate:\", balanced_error_rate(Y, predictions)\n",
    "  print \"Accuracy:\", accuracy(theta, Y, X)"
   ]
  },
  {
   "cell_type": "code",
   "execution_count": 9,
   "metadata": {
    "scrolled": false
   },
   "outputs": [
    {
     "name": "stdout",
     "output_type": "stream",
     "text": [
      "-----\n",
      "Training statistics:\n",
      "True Positive: 4037\n",
      "True Negative: 5191\n",
      "False Positive: 2127\n",
      "False Negative: 5311\n",
      "Balanced Error rate: 0.429398051101\n",
      "Accuracy: 0.553702148086\n",
      "-----\n",
      "Testing statistics:\n",
      "True Positive: 6971\n",
      "True Negative: 559\n",
      "False Positive: 199\n",
      "False Negative: 8938\n",
      "Balanced Error rate: 0.412176667395\n",
      "Accuracy: 0.451790964181\n",
      "-----\n",
      "Validation statistics:\n",
      "True Positive: 2414\n",
      "True Negative: 7761\n",
      "False Positive: 2994\n",
      "False Negative: 3498\n",
      "Balanced Error rate: 0.435030045502\n",
      "Accuracy: 0.610487790244\n"
     ]
    }
   ],
   "source": [
    "n = len(X)\n",
    "X_train, X_test, X_val = (X[0:n/3], X[n/3:2*n/3], X[2*n/3::])\n",
    "Y_train, Y_test, Y_val = (Y[0:n/3], Y[n/3:2*n/3], Y[2*n/3::])\n",
    "\n",
    "lam = 1.0\n",
    "theta = train(lam, X_train, Y_train, f, fprime)\n",
    "print \"-----\\nTraining statistics:\"\n",
    "print_metrics(X_train, Y_train, theta)\n",
    "print \"-----\\nTesting statistics:\"\n",
    "print_metrics(X_test, Y_test, theta)\n",
    "print \"-----\\nValidation statistics:\"\n",
    "print_metrics(X_val, Y_val, theta)\n",
    "\n",
    "\n",
    "\n"
   ]
  },
  {
   "cell_type": "markdown",
   "metadata": {},
   "source": [
    "## Question 5 \n",
    "*Implement a training/validation/test pipeline so that you can select the best model based on its perfor- mance on the validation set. Try models with *\n",
    "$$\\lambda =  \\left(\\begin{array}\n",
    "00 & 0.01 & 0.1 & 1 & 100\n",
    "\\end{array}\\right)\n",
    "$$\n",
    "\n",
    "*Report the performance on the training/validation/test sets for the best value of λ (1 mark).*\n",
    "\n",
    "--- \n",
    "\n",
    "The choice of the best $\\lambda$ is based on the best BER value. There is barely any difference between the $lambda$ values. We see from the graph that the best value is $\\lambda = 100$\n"
   ]
  },
  {
   "cell_type": "code",
   "execution_count": 21,
   "metadata": {
    "scrolled": true
   },
   "outputs": [
    {
     "name": "stdout",
     "output_type": "stream",
     "text": [
      "lam=0 \t ber=0.436919016488\n",
      "lam=0.01 \t ber=0.436919016488\n",
      "lam=0.1 \t ber=0.436919016488\n",
      "lam=1 \t ber=0.43683444274\n",
      "lam=100 \t ber=0.439110408414\n",
      "lam=1000 \t ber=0.441205611954\n"
     ]
    }
   ],
   "source": [
    "def get_ber(lam, f, fprime, X, Y):\n",
    "  n = len(X)\n",
    "  X_train, X_test, X_val = (X[0:n/3], X[n/3:2*n/3], X[2*n/3::])\n",
    "  Y_train, Y_test, Y_val = (Y[0:n/3], Y[n/3:2*n/3], Y[2*n/3::])\n",
    "  \n",
    "  # Find theta on training data\n",
    "  theta = train(lam, X_train, Y_train, f, fprime)\n",
    "  # Tune the lambda with validation set\n",
    "  predictions = predict(X_val, theta)\n",
    "  # Tune the lambda with validation set\n",
    "  ber = balanced_error_rate(Y_val, predictions)\n",
    "  print \"lam={} \\t ber={}\".format(lam, ber)\n",
    "  return ber\n",
    "\n",
    "lams = [0, 0.01, 0.1, 1, 100,1000]\n",
    "bers = []\n",
    "for lam in lams:\n",
    "  b = get_ber(lam, f, fprime, X, Y)\n",
    "  bers.append(b)\n"
   ]
  },
  {
   "cell_type": "code",
   "execution_count": 20,
   "metadata": {},
   "outputs": [
    {
     "data": {
      "image/png": "[encoded data removed]",
      "text/plain": [
       "<matplotlib.figure.Figure at 0x1a2211af50>"
      ]
     },
     "metadata": {},
     "output_type": "display_data"
    }
   ],
   "source": [
    "for xy in zip(lams, bers)[:]:                                       # <--\n",
    "  plt.annotate('(%.2f, %.3f)' % xy, xy=xy, textcoords='data') # <--\n",
    "plt.plot(lams, bers, label=\"Validation BER\")\n",
    "plt.legend()\n",
    "plt.xlabel('Lambda')\n",
    "plt.ylabel('BER')\n",
    "plt.show()"
   ]
  },
  {
   "cell_type": "code",
   "execution_count": 12,
   "metadata": {},
   "outputs": [
    {
     "name": "stdout",
     "output_type": "stream",
     "text": [
      "-----\n",
      "Training statistics:\n",
      "True Positive: 4028\n",
      "True Negative: 5191\n",
      "False Positive: 2127\n",
      "False Negative: 5320\n",
      "Balanced Error rate: 0.429879437493\n",
      "Accuracy: 0.553162126485\n",
      "-----\n",
      "Testing statistics:\n",
      "True Positive: 6951\n",
      "True Negative: 559\n",
      "False Positive: 199\n",
      "False Negative: 8958\n",
      "Balanced Error rate: 0.412805242415\n",
      "Accuracy: 0.45059098818\n",
      "-----\n",
      "Validation statistics:\n",
      "True Positive: 2422\n",
      "True Negative: 7785\n",
      "False Positive: 2970\n",
      "False Negative: 3490\n",
      "Balanced Error rate: 0.433237695404\n",
      "Accuracy: 0.612407751845\n"
     ]
    }
   ],
   "source": [
    "lam = 100\n",
    "theta = train(lam, X_train, Y_train, f, fprime)\n",
    "print \"-----\\nTraining statistics:\"\n",
    "print_metrics(X_train, Y_train, theta)\n",
    "print \"-----\\nTesting statistics:\"\n",
    "print_metrics(X_test, Y_test, theta)\n",
    "print \"-----\\nValidation statistics:\"\n",
    "print_metrics(X_val, Y_val, theta)\n",
    "\n"
   ]
  },
  {
   "cell_type": "markdown",
   "metadata": {},
   "source": [
    "# Dimensionality Reduction\n",
    "\n",
    "## Question 6\n",
    "\n",
    "*Find and report the PCA components (i.e., the transform matrix) using the week 3 code (1 mark).*\n",
    "\n",
    "---\n",
    "\n"
   ]
  },
  {
   "cell_type": "code",
   "execution_count": 13,
   "metadata": {},
   "outputs": [
    {
     "name": "stdout",
     "output_type": "stream",
     "text": [
      "PCA Components:\n",
      "[[ -9.45257253e-04   1.16974959e-02  -1.19664614e-02   1.33419235e-02\n",
      "    1.05120403e-01   1.79457226e-03   9.84741210e-01   1.35598399e-01\n",
      "    4.59479736e-04   1.96255971e-02]\n",
      " [  2.46324777e-03   4.44171070e-02   9.50488366e-03   6.73602998e-04\n",
      "    9.71555003e-01   4.10505891e-03  -1.30790119e-01   1.91579045e-01\n",
      "    1.50095154e-03   1.35440738e-02]\n",
      " [  3.12946664e-03   4.73537038e-02   3.91534945e-02   4.54565212e-03\n",
      "   -2.09090111e-01   7.94925530e-03  -1.11771416e-01   9.69193701e-01\n",
      "    4.66470642e-03   2.36911504e-02]\n",
      " [  2.44184954e-02   8.52307858e-01   5.11850323e-01   1.05866679e-02\n",
      "   -3.00524596e-02   6.13076186e-02   7.91979830e-03  -6.94293166e-02\n",
      "    7.88854563e-03   3.55677425e-02]\n",
      " [  1.48663270e-02  -5.14637213e-01   8.54122237e-01  -6.91810409e-04\n",
      "    1.82955353e-02   4.94690178e-02   1.58337230e-02  -2.85756422e-03\n",
      "    1.48501252e-03  -4.85723030e-02]\n",
      " [ -1.28725003e-03  -5.75843509e-02   2.25235922e-02   1.99339209e-02\n",
      "   -8.34344105e-03  -2.00852484e-03  -1.47079995e-02  -2.60907462e-02\n",
      "    9.51344725e-03   9.97354755e-01]\n",
      " [  5.16369601e-02  -2.90830572e-02  -7.56801248e-02   9.70399509e-02\n",
      "   -1.71751065e-03   9.90445149e-01  -2.77141140e-03  -5.03908378e-03\n",
      "    1.80529183e-02  -2.07583964e-04]\n",
      " [ -7.30288990e-04  -6.00536639e-03   1.86080502e-03   9.94682746e-01\n",
      "   -4.54461097e-04  -9.78693982e-02  -1.20984145e-02  -4.71662393e-03\n",
      "    1.94848735e-02  -2.09587724e-02]\n",
      " [ -2.88451970e-02  -4.72919315e-03  -3.78650750e-03  -2.13087363e-02\n",
      "   -1.71496671e-04  -1.50688581e-02   5.69090889e-04  -3.84856859e-03\n",
      "    9.99172448e-01  -9.45372677e-03]\n",
      " [  9.97830328e-01  -1.21473763e-02  -2.15713103e-02  -5.13607957e-03\n",
      "   -1.10736033e-03  -5.40352929e-02   1.30860212e-03  -1.53010910e-03\n",
      "    2.77432338e-02   7.72869389e-04]]\n"
     ]
    }
   ],
   "source": [
    "from sklearn.decomposition import PCA\n",
    "\n",
    "def feature(d, words):\n",
    "  feat = [count_appearances(d['review/text'], word) for word in words]\n",
    "  return feat\n",
    "\n",
    "X = np.array([feature(d, words) for d in data])\n",
    "n = len(X)\n",
    "X_train, X_test, X_val = (X[0:n/3], X[n/3:2*n/3], X[2*n/3::])\n",
    "Y_train, Y_test, Y_val = (Y[0:n/3], Y[n/3:2*n/3], Y[2*n/3::])\n",
    "\n",
    "pca = PCA(n_components=10)\n",
    "pca.fit(X_train)\n",
    "assert pca.components_.shape == (10,10)\n",
    "print \"PCA Components:\\n\", pca.components_"
   ]
  },
  {
   "cell_type": "markdown",
   "metadata": {},
   "source": [
    "## Question 7\n",
    "*Suppose we want to compress the data using just two PCA dimensions. How large is the reconstruction\n",
    "error when doing so (1 mark)?*\n",
    "\n",
    "---\n",
    "\n",
    "\n",
    "The reconstruction error is given by\n",
    "$$ \n",
    "\\frac{1}{N} \\sum_y \\sum_{j=k+1}^M (y_j - \\bar{y_j})^2\n",
    "$$\n",
    "This is also the same as the variance of the discarded dimensions\n"
   ]
  },
  {
   "cell_type": "markdown",
   "metadata": {},
   "source": [
    "#### Found from taking the mean-squared error directly"
   ]
  },
  {
   "cell_type": "code",
   "execution_count": 14,
   "metadata": {
    "scrolled": false
   },
   "outputs": [
    {
     "data": {
      "text/plain": [
       "0.12228045087666031"
      ]
     },
     "execution_count": 14,
     "metadata": {},
     "output_type": "execute_result"
    }
   ],
   "source": [
    "pca = PCA(n_components=2)\n",
    "pca.fit(X_train)\n",
    "X_pca = pca.transform(X_train)\n",
    "X_reconstructed = pca.inverse_transform(X_pca)\n",
    "((X_train - X_reconstructed) **2).mean()"
   ]
  },
  {
   "cell_type": "markdown",
   "metadata": {},
   "source": [
    "#### Found from taking the variance of the discarded dimensions"
   ]
  },
  {
   "cell_type": "code",
   "execution_count": 15,
   "metadata": {},
   "outputs": [
    {
     "data": {
      "text/plain": [
       "0.12228045087665665"
      ]
     },
     "execution_count": 15,
     "metadata": {},
     "output_type": "execute_result"
    }
   ],
   "source": [
    "pca10 = PCA(n_components=10)\n",
    "pca10.fit(X_train)\n",
    "xpca = pca10.transform(X_train)\n",
    "var = np.var(xpca, axis=0)\n",
    "sum(var[2::]) / 10"
   ]
  },
  {
   "cell_type": "markdown",
   "metadata": {},
   "source": [
    "## Question 8 \n",
    "*Looking at the first two dimensions of our data in the PCA basis is an effective way to ‘summarize’ the data via a 2-d plot. Using a plotting program of your choice, make a 2-d scatterplot showing the difference between ‘American IPA’ style beers versus all other styles (e.g. plot American IPAs in red and other styles in blue) *\n",
    "\n",
    "---"
   ]
  },
  {
   "cell_type": "code",
   "execution_count": 16,
   "metadata": {},
   "outputs": [
    {
     "name": "stdout",
     "output_type": "stream",
     "text": [
      "(16666, 2)\n"
     ]
    },
    {
     "data": {
      "image/png": "[encoded data removed]",
      "text/plain": [
       "<matplotlib.figure.Figure at 0x1517765610>"
      ]
     },
     "metadata": {},
     "output_type": "display_data"
    }
   ],
   "source": [
    "pca = PCA(n_components=2)\n",
    "pca.fit(X_train)\n",
    "X_pca = pca.transform(X_train)\n",
    "tmask = np.where(Y_train==1)[0]\n",
    "fmask = np.where(Y_train==0)[0]\n",
    "\n",
    "print X_pca.shape\n",
    "Xt = X_pca[tmask]\n",
    "Xf = X_pca[fmask]\n",
    "\n",
    "plt.plot(Xt[:,0], Xt[:,1], 'ro', label='American IPA')\n",
    "plt.plot(Xf[:,0], Xf[:,1], 'bo', label='Non American IPA')\n",
    "#plt.plot(X_pca[tlabel], 'ro', label='American IPA')\n",
    "plt.legend()\n",
    "plt.show()"
   ]
  },
  {
   "cell_type": "code",
   "execution_count": null,
   "metadata": {
    "collapsed": true
   },
   "outputs": [],
   "source": []
  }
 ],
 "metadata": {
  "kernelspec": {
   "display_name": "Python (myenv)",
   "language": "python",
   "name": "myenv"
  },
  "language_info": {
   "codemirror_mode": {
    "name": "ipython",
    "version": 2
   },
   "file_extension": ".py",
   "mimetype": "text/x-python",
   "name": "python",
   "nbconvert_exporter": "python",
   "pygments_lexer": "ipython2",
   "version": "2.7.14"
  }
 },
 "nbformat": 4,
 "nbformat_minor": 2
}
